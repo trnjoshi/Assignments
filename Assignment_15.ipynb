{
 "cells": [
  {
   "cell_type": "markdown",
   "id": "3d7c6a61",
   "metadata": {},
   "source": [
    "Q.1 Please write a program using generator to print the numbers which can be divisible by 5 and\n",
    "7 between 0 and n in comma separated form while n is input by console.\n",
    "Example:\n",
    "If the following n is given as input to the program:\n",
    "100\n",
    "Then, the output of the program should be:\n",
    "0,35,70"
   ]
  },
  {
   "cell_type": "code",
   "execution_count": 9,
   "id": "2b60f981",
   "metadata": {},
   "outputs": [
    {
     "name": "stdout",
     "output_type": "stream",
     "text": [
      "Enter the Number:100\n",
      "0 35 70 "
     ]
    }
   ],
   "source": [
    "def NumGen(n):    \n",
    "   \n",
    "    for j in range(0, n+1):\n",
    "       \n",
    "        if j % 5 == 0 and j % 7 == 0:\n",
    "            yield j\n",
    "\n",
    "if __name__ == \"__main__\":      \n",
    "   \n",
    "    N = int(input(\"Enter the Number:\"))\n",
    "    \n",
    "    for j in NumGen(N):\n",
    "        print(j,end = ' ')"
   ]
  },
  {
   "cell_type": "markdown",
   "id": "9cb4cd51",
   "metadata": {},
   "source": [
    "Q.2 Please write a program using generator to print the even numbers between 0 and n in comma\n",
    "separated form while n is input by console.\n",
    "Example:\n",
    "If the following n is given as input to the program:\n",
    "10\n",
    "Then, the output of the program should be:\n",
    "0,2,4,6,8,10"
   ]
  },
  {
   "cell_type": "code",
   "execution_count": 10,
   "id": "a647bd06",
   "metadata": {},
   "outputs": [
    {
     "name": "stdout",
     "output_type": "stream",
     "text": [
      "Enter the Number:10\n",
      "0 2 4 6 8 10 "
     ]
    }
   ],
   "source": [
    "def NumGen(n):    \n",
    "   \n",
    "    for j in range(0, n+1):\n",
    "       \n",
    "        if j % 2 == 0:\n",
    "            yield j\n",
    "\n",
    "if __name__ == \"__main__\":      \n",
    "   \n",
    "    N = int(input(\"Enter the Number:\"))\n",
    "    \n",
    "    for j in NumGen(N):\n",
    "        print(j,end = ' ')"
   ]
  },
  {
   "cell_type": "markdown",
   "id": "b0e0425f",
   "metadata": {},
   "source": [
    "Q.3 The Fibonacci Sequence is computed based on the following formula:\n",
    "f(n)=0 if n=0\n",
    "f(n)=1 if n=1\n",
    "f(n)=f(n-1)+f(n-2) if n&gt;1\n",
    "Please write a program using list comprehension to print the Fibonacci Sequence in comma\n",
    "separated form with a given n input by console.\n",
    "Example:\n",
    "If the following n is given as input to the program:\n",
    "7\n",
    "\n",
    "Then, the output of the program should be:\n",
    "0,1,1,2,3,5,8,13"
   ]
  },
  {
   "cell_type": "code",
   "execution_count": 15,
   "id": "af264d9b",
   "metadata": {},
   "outputs": [
    {
     "name": "stdout",
     "output_type": "stream",
     "text": [
      "7\n",
      "0,1,1,2,3,5,8,13\n"
     ]
    }
   ],
   "source": [
    "def f(n):    \n",
    "    if n == 0: \n",
    "            return 0    \n",
    "    elif n == 1: \n",
    "            return 1    \n",
    "    else: \n",
    "            return f(n-1)+f(n-2)\n",
    "n=int(input()) \n",
    "values = [str(f(x)) for x in range(0, n+1)] \n",
    "print (\",\".join(values))"
   ]
  },
  {
   "cell_type": "code",
   "execution_count": null,
   "id": "25a5b31a",
   "metadata": {},
   "outputs": [],
   "source": []
  },
  {
   "cell_type": "markdown",
   "id": "53dd62ce",
   "metadata": {},
   "source": [
    "Q.4 Assuming that we have some email addresses in the &quot;username@companyname.com&quot; format,\n",
    "please write program to print the user name of a given email address. Both user names and\n",
    "company names are composed of letters only.\n",
    "Example:\n",
    "If the following email address is given as input to the program:\n",
    "john@google.com\n",
    "Then, the output of the program should be:\n",
    "john"
   ]
  },
  {
   "cell_type": "code",
   "execution_count": 19,
   "id": "f90ebde5",
   "metadata": {},
   "outputs": [
    {
     "name": "stdout",
     "output_type": "stream",
     "text": [
      "Enter the Email ID:john@google.com \n"
     ]
    },
    {
     "data": {
      "text/plain": [
       "'john'"
      ]
     },
     "execution_count": 19,
     "metadata": {},
     "output_type": "execute_result"
    }
   ],
   "source": [
    "e= str(input(\"Enter the Email ID:\"))\n",
    "e.split(\"@\")[0]"
   ]
  },
  {
   "cell_type": "markdown",
   "id": "c5cc4165",
   "metadata": {},
   "source": [
    "Q.5 Define a class named Shape and its subclass Square. The Square class has an init function\n",
    "which takes a length as argument. Both classes have a area function which can print the area\n",
    "of the shape where Shape&#39;s area is 0 by default."
   ]
  },
  {
   "cell_type": "code",
   "execution_count": 23,
   "id": "4f0e05dc",
   "metadata": {},
   "outputs": [
    {
     "name": "stdout",
     "output_type": "stream",
     "text": [
      "324\n"
     ]
    }
   ],
   "source": [
    "class Shape(object):\n",
    "    def __init__(self):\n",
    "        pass\n",
    "\n",
    "    def area(self):\n",
    "        return 0\n",
    "\n",
    "class Square(Shape):\n",
    "    def __init__(self, l):\n",
    "        Shape.__init__(self)\n",
    "        self.length = l\n",
    "\n",
    "    def area(self):\n",
    "        return self.length**2\n",
    "\n",
    "aSquare= Square(18)\n",
    "print (aSquare.area())"
   ]
  }
 ],
 "metadata": {
  "kernelspec": {
   "display_name": "Python 3 (ipykernel)",
   "language": "python",
   "name": "python3"
  },
  "language_info": {
   "codemirror_mode": {
    "name": "ipython",
    "version": 3
   },
   "file_extension": ".py",
   "mimetype": "text/x-python",
   "name": "python",
   "nbconvert_exporter": "python",
   "pygments_lexer": "ipython3",
   "version": "3.9.7"
  }
 },
 "nbformat": 4,
 "nbformat_minor": 5
}
