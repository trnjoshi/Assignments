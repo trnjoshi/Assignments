{
 "cells": [
  {
   "cell_type": "markdown",
   "id": "2310f337",
   "metadata": {},
   "source": [
    "Q.1 Write a Python Program to Find LCM?\n",
    "\n"
   ]
  },
  {
   "cell_type": "code",
   "execution_count": 11,
   "id": "63d6e918",
   "metadata": {},
   "outputs": [
    {
     "data": {
      "text/plain": [
       "156"
      ]
     },
     "execution_count": 11,
     "metadata": {},
     "output_type": "execute_result"
    }
   ],
   "source": [
    "def lcm(a,b):\n",
    "    \"\"\"This function will give LCM of two given numbers\"\"\"\n",
    "    \n",
    "    if a > b:\n",
    "        greater = a\n",
    "    else :\n",
    "        greater = b\n",
    "   \n",
    "    while(True):\n",
    "        if ((greater % a == 0) and (greater % b == 0)):\n",
    "            lcm = greater\n",
    "            break\n",
    "        greater = greater + 1\n",
    "    \n",
    "    return lcm\n",
    "\n",
    "lcm(12,26)"
   ]
  },
  {
   "cell_type": "markdown",
   "id": "faa41855",
   "metadata": {},
   "source": [
    "Q.2 Write a Python Program to Find HCF?"
   ]
  },
  {
   "cell_type": "code",
   "execution_count": 15,
   "id": "144af8eb",
   "metadata": {},
   "outputs": [
    {
     "data": {
      "text/plain": [
       "20"
      ]
     },
     "execution_count": 15,
     "metadata": {},
     "output_type": "execute_result"
    }
   ],
   "source": [
    "def gcd(a,b):\n",
    "    \"\"\"This function will give LCM of two given numbers\"\"\"\n",
    "   \n",
    "    while b > 0:\n",
    "        a, b = b, a % b\n",
    "    return a\n",
    "\n",
    "gcd(20,100)"
   ]
  },
  {
   "cell_type": "markdown",
   "id": "7d6700e5",
   "metadata": {},
   "source": [
    "Q.3 Write a Python Program to Convert Decimal to Binary, Octal and Hexadecimal?"
   ]
  },
  {
   "cell_type": "code",
   "execution_count": 38,
   "id": "5a5117af",
   "metadata": {},
   "outputs": [
    {
     "name": "stdout",
     "output_type": "stream",
     "text": [
      "Enter a number: 8\n",
      "Binary Equivalent is: \n",
      "1000"
     ]
    }
   ],
   "source": [
    "n=int(input(\"Enter a number: \"))\n",
    "a = []\n",
    "\n",
    "while(n>0):\n",
    "    dig = n%2\n",
    "    a.append(dig)\n",
    "    n = n//2\n",
    "\n",
    "a.reverse()\n",
    "print(\"Binary Equivalent is: \")\n",
    "\n",
    "for i in a:\n",
    "    print(i,end=\"\") \n",
    "\n",
    "    "
   ]
  },
  {
   "cell_type": "code",
   "execution_count": 48,
   "id": "883d5377",
   "metadata": {},
   "outputs": [
    {
     "name": "stdout",
     "output_type": "stream",
     "text": [
      "Binary Equivalent is: \n",
      "1000"
     ]
    }
   ],
   "source": [
    "def dtob(n):\n",
    "    \"\"\"This function convert decimal number to binary number\"\"\"\n",
    "    a = []\n",
    "    while(n>0):\n",
    "        dig = n%2\n",
    "        a.append(dig)\n",
    "        n = n//2\n",
    "\n",
    "    a.reverse()\n",
    "    print(\"Binary Equivalent is: \")\n",
    "\n",
    "    for i in a:\n",
    "        print(i,end=\"\") \n",
    "dtob(8)\n",
    "\n",
    "    "
   ]
  },
  {
   "cell_type": "code",
   "execution_count": 51,
   "id": "227840b0",
   "metadata": {},
   "outputs": [
    {
     "name": "stdout",
     "output_type": "stream",
     "text": [
      "Enter a decimal number: 15\n",
      "Octal equivalent is 17\n"
     ]
    }
   ],
   "source": [
    "#Converting decimal number into octal number\n",
    "\n",
    "decimal = int(input(\"Enter a decimal number: \"))\n",
    "octal = 0\n",
    "ctr = 0\n",
    "temp = decimal\n",
    " \n",
    "\n",
    "while(temp > 0):\n",
    "    octal += ((temp%8)*(10**ctr))  \n",
    "    temp = int(temp/8)            \n",
    "    ctr += 1\n",
    "       \n",
    "print(\"Octal equivalent is\" , octal)"
   ]
  },
  {
   "cell_type": "code",
   "execution_count": 55,
   "id": "11128785",
   "metadata": {},
   "outputs": [
    {
     "data": {
      "text/plain": [
       "'E1'"
      ]
     },
     "execution_count": 55,
     "metadata": {},
     "output_type": "execute_result"
    }
   ],
   "source": [
    "#Converting decimal number into Hexadecimal number\n",
    "conversion_table = {0: '0', 1: '1', 2: '2', 3: '3',\n",
    "                    4: '4', 5: '5', 6: '6', 7: '7',\n",
    "                    8: '8', 9: '9', 10: 'A', 11: 'B',\n",
    "                    12: 'C', 13: 'D', 14: 'E', 15: 'F'}\n",
    "  \n",
    "def DtoH(decimal):\n",
    "    \"\"\"This function convert decimal number to haxadecimal number\"\"\"\n",
    "    if(decimal <= 0):\n",
    "        return ''\n",
    "    remainder = decimal % 16\n",
    "    return DtoH(decimal//16) + conversion_table[remainder]\n",
    "\n",
    "DtoH(225)"
   ]
  },
  {
   "cell_type": "code",
   "execution_count": 66,
   "id": "32e45fe9",
   "metadata": {},
   "outputs": [
    {
     "name": "stdout",
     "output_type": "stream",
     "text": [
      "Binary number of 225 is = 0b11100001\n",
      "Octal number of 225 is = 0o341\n",
      "Hexadecimal number of 225 is = 0xe1\n"
     ]
    }
   ],
   "source": [
    "\n",
    "def numconv(n):\n",
    "    \"\"\"This function convert entered number in binary , octal and hexadecimal\"\"\"\n",
    "\n",
    "    a = bin(n)\n",
    "    b = oct(n)\n",
    "    c = hex(n)\n",
    "\n",
    "    print(\"Binary number of\", n, \"is =\",a)\n",
    "    print(\"Octal number of\", n , \"is =\",b)\n",
    "    print(\"Hexadecimal number of\", n ,\"is =\",c)\n",
    "    \n",
    "numconv(225)"
   ]
  },
  {
   "cell_type": "markdown",
   "id": "18b9d53f",
   "metadata": {},
   "source": [
    "Q.4 Write a Python Program To Find ASCII value of a character?"
   ]
  },
  {
   "cell_type": "code",
   "execution_count": 86,
   "id": "20961d4f",
   "metadata": {},
   "outputs": [
    {
     "name": "stdout",
     "output_type": "stream",
     "text": [
      "Enter the charcterg\n",
      "ASCII value of g is =  103\n"
     ]
    }
   ],
   "source": [
    "n = input(\"Enter the charcter\")\n",
    "c=ord(n)\n",
    "print(\"ASCII value of\", n, \"is = \" ,c)\n"
   ]
  },
  {
   "cell_type": "markdown",
   "id": "9e1f850f",
   "metadata": {},
   "source": [
    "Q.5 Write a Python Program to Make a Simple Calculator with 4 basic mathematical operations?"
   ]
  },
  {
   "cell_type": "code",
   "execution_count": 77,
   "id": "a2249792",
   "metadata": {},
   "outputs": [
    {
     "name": "stdout",
     "output_type": "stream",
     "text": [
      "select the calculator mode = \n",
      " 1. Addition \n",
      " 2. Subtraction \n",
      " 3. Multiplication \n",
      " 4. Division\n",
      "Select the mode 1/2/3/4 =3\n",
      "Enter Number 1 = 2\n",
      "Enter Number 2 = 6\n",
      "2.0 * 6.0 = 12.0\n"
     ]
    }
   ],
   "source": [
    "def add (a,b):\n",
    "    return a + b \n",
    "def sub (a,b) :\n",
    "    return a - b\n",
    "def mul (a,b):\n",
    "    return a * b\n",
    "def div (a,b) :\n",
    "    return a / b\n",
    "\n",
    "print(\"select the calculator mode = \\n 1. Addition \\n 2. Subtraction \\n 3. Multiplication \\n 4. Division\")\n",
    "\n",
    "choice = input(\"Select the mode 1/2/3/4 =\")\n",
    "\n",
    "num1 = float(input(\"Enter Number 1 = \"))\n",
    "num2 = float(input(\"Enter Number 2 = \"))\n",
    "\n",
    "if choice == '1':\n",
    "    print (num1, \"+\" ,num2, \"=\",add(num1,num2))\n",
    "elif choice =='2':\n",
    "    print (num1,\"-\",num2,\"=\", sub(num1,num2))\n",
    "elif choice =='3':\n",
    "    print (num1,\"*\",num2,\"=\",mul(num1,num2))\n",
    "elif choice =='4':\n",
    "    print (num1, \"/\",num2, \"=\",div(num1,num2))\n",
    "else: \n",
    "    print(\"select valid mode\")"
   ]
  }
 ],
 "metadata": {
  "kernelspec": {
   "display_name": "Python 3 (ipykernel)",
   "language": "python",
   "name": "python3"
  },
  "language_info": {
   "codemirror_mode": {
    "name": "ipython",
    "version": 3
   },
   "file_extension": ".py",
   "mimetype": "text/x-python",
   "name": "python",
   "nbconvert_exporter": "python",
   "pygments_lexer": "ipython3",
   "version": "3.9.7"
  }
 },
 "nbformat": 4,
 "nbformat_minor": 5
}
