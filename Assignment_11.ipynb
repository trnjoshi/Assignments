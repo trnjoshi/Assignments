{
 "cells": [
  {
   "cell_type": "markdown",
   "id": "84e3ac6c",
   "metadata": {},
   "source": [
    "Q.1 Write a Python program to find words which are greater than given length k?"
   ]
  },
  {
   "cell_type": "code",
   "execution_count": 2,
   "id": "fcf22c34",
   "metadata": {},
   "outputs": [
    {
     "name": "stdout",
     "output_type": "stream",
     "text": [
      "['Write', 'Python', 'program', 'words', 'which', 'greater', 'given', 'length']\n"
     ]
    }
   ],
   "source": [
    "def strings(k,sen):\n",
    "    string = []    \n",
    "    text = sen.split(\" \")\n",
    "    \n",
    "    for i in text :        \n",
    "        if len(i) > k :\n",
    "            string.append(i)\n",
    "    return string\n",
    "k = 4 \n",
    "sen = \"Write a Python program to find words which are greater than given length k\"\n",
    "\n",
    "print (strings(k,sen))\n",
    "#d = strings(k,sen)\n",
    "#(d)"
   ]
  },
  {
   "cell_type": "markdown",
   "id": "e89b6f41",
   "metadata": {},
   "source": [
    "Q.2 Write a Python program for removing i-th character from a string?"
   ]
  },
  {
   "cell_type": "code",
   "execution_count": 3,
   "id": "7cbfdf32",
   "metadata": {},
   "outputs": [
    {
     "data": {
      "text/plain": [
       "'ineron'"
      ]
     },
     "execution_count": 3,
     "metadata": {},
     "output_type": "execute_result"
    }
   ],
   "source": [
    "def rem(i,sent):\n",
    "    a = sent[: i]\n",
    "    b = sent[i+1 :]\n",
    "    \n",
    "    return a + b\n",
    "i = 3\n",
    "sent =\"ineuron\"\n",
    "rem(i,sent)"
   ]
  },
  {
   "cell_type": "markdown",
   "id": "851a1f9b",
   "metadata": {},
   "source": [
    "Q.3 Write a Python program to split and join a string?"
   ]
  },
  {
   "cell_type": "code",
   "execution_count": 4,
   "id": "3ee4c261",
   "metadata": {},
   "outputs": [
    {
     "data": {
      "text/plain": [
       "(['program', 'to', 'split', 'and', 'join', 'a', 'string'],\n",
       " 'program-to-split-and-join-a-string')"
      ]
     },
     "execution_count": 4,
     "metadata": {},
     "output_type": "execute_result"
    }
   ],
   "source": [
    "def strng(strn):\n",
    "    a = strn.split(\" \")\n",
    "    b = \"-\".join(a)\n",
    "    return a , b\n",
    "strn = \"program to split and join a string\"\n",
    "strng (strn)"
   ]
  },
  {
   "cell_type": "markdown",
   "id": "e8cf33cd",
   "metadata": {},
   "source": [
    "Q.4 Write a Python to check if a given string is binary string or not?"
   ]
  },
  {
   "cell_type": "code",
   "execution_count": 5,
   "id": "6500fb4c",
   "metadata": {},
   "outputs": [
    {
     "name": "stdout",
     "output_type": "stream",
     "text": [
      "Given string is binary\n"
     ]
    }
   ],
   "source": [
    "def bin(strn):\n",
    "    s = \"01\"\n",
    "    count = 0\n",
    "    for i in strn :\n",
    "        if i != s :\n",
    "            count = 1\n",
    "            break\n",
    "        else :\n",
    "            pass\n",
    "    if count:\n",
    "        print (\"Given string is binary\")\n",
    "    else :\n",
    "        print (\"Given string is not binary\")\n",
    "strn = \"00011101010\"\n",
    "bin(strn)"
   ]
  },
  {
   "cell_type": "markdown",
   "id": "dc159b4e",
   "metadata": {},
   "source": [
    "Q.5 Write a Python program to find uncommon words from two Strings?"
   ]
  },
  {
   "cell_type": "code",
   "execution_count": 6,
   "id": "24764130",
   "metadata": {},
   "outputs": [
    {
     "data": {
      "text/plain": [
       "{'bus', 'car', 'train', 'truck'}"
      ]
     },
     "execution_count": 6,
     "metadata": {},
     "output_type": "execute_result"
    }
   ],
   "source": [
    "def uncomee(s1,s2):\n",
    "    s1 = s1.split()\n",
    "    s2 = s2.split()\n",
    "    d = set(s1).symmetric_difference(set(s2))\n",
    "    return d\n",
    "s1 = \"car bike truck\"\n",
    "s2 = \"bus bike train\"\n",
    "uncomee(s1,s2)"
   ]
  },
  {
   "cell_type": "markdown",
   "id": "9df8ab43",
   "metadata": {},
   "source": [
    "Q.6 Write a Python to find all duplicate characters in string?"
   ]
  },
  {
   "cell_type": "code",
   "execution_count": 21,
   "id": "d17ee157",
   "metadata": {},
   "outputs": [
    {
     "name": "stdout",
     "output_type": "stream",
     "text": [
      "a \n"
     ]
    }
   ],
   "source": [
    "string = \"tarang\"\n",
    "duplicates = {}\n",
    "for char in string:\n",
    "    if char in duplicates:\n",
    "        duplicates[char] += 1\n",
    "    else:\n",
    "        duplicates[char] = 1\n",
    "for key, value in duplicates.items():\n",
    "    if value > 1:\n",
    "        print(key, end = \" \")\n",
    "print()"
   ]
  },
  {
   "cell_type": "markdown",
   "id": "b70e8f20",
   "metadata": {},
   "source": [
    "Q.7 Write a Python Program to check if a string contains any special character?"
   ]
  },
  {
   "cell_type": "code",
   "execution_count": 34,
   "id": "d7a8db36",
   "metadata": {},
   "outputs": [
    {
     "name": "stdout",
     "output_type": "stream",
     "text": [
      "String have special char\n"
     ]
    }
   ],
   "source": [
    "import re\n",
    "\n",
    "def run(string):\n",
    "    \n",
    "    regex = re.compile('[@_!#$%^&*()<>?/\\|}{~:]')     \n",
    "  \n",
    "    if(regex.search(string) == None):\n",
    "        print(\"String does not have any special char\")\n",
    "         \n",
    "    else:\n",
    "        print(\"String have special char\")\n",
    "\n",
    "if __name__ == '__main__' :    \n",
    "  \n",
    "    string = \"abc&dvdi\"    \n",
    "   \n",
    "    run(string)"
   ]
  },
  {
   "cell_type": "code",
   "execution_count": null,
   "id": "6499205a",
   "metadata": {},
   "outputs": [],
   "source": []
  }
 ],
 "metadata": {
  "kernelspec": {
   "display_name": "Python 3 (ipykernel)",
   "language": "python",
   "name": "python3"
  },
  "language_info": {
   "codemirror_mode": {
    "name": "ipython",
    "version": 3
   },
   "file_extension": ".py",
   "mimetype": "text/x-python",
   "name": "python",
   "nbconvert_exporter": "python",
   "pygments_lexer": "ipython3",
   "version": "3.9.7"
  }
 },
 "nbformat": 4,
 "nbformat_minor": 5
}
