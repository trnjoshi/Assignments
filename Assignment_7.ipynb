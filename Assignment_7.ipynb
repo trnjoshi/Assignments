{
 "cells": [
  {
   "cell_type": "markdown",
   "id": "1e4fd66e",
   "metadata": {},
   "source": [
    "Q.1 Write a Python Program to find sum of array?"
   ]
  },
  {
   "cell_type": "code",
   "execution_count": 34,
   "id": "c81cd44e",
   "metadata": {},
   "outputs": [
    {
     "name": "stdout",
     "output_type": "stream",
     "text": [
      "46\n"
     ]
    }
   ],
   "source": [
    "l = [5,6,8,10,\"abc\",5,8,4]\n",
    "sum= 0\n",
    "for i in l :\n",
    "    if type(i) == int :\n",
    "        sum = sum + i \n",
    "    else :\n",
    "        pass\n",
    "print(sum)"
   ]
  },
  {
   "cell_type": "code",
   "execution_count": 41,
   "id": "f9a02896",
   "metadata": {},
   "outputs": [
    {
     "data": {
      "text/plain": [
       "22"
      ]
     },
     "execution_count": 41,
     "metadata": {},
     "output_type": "execute_result"
    }
   ],
   "source": [
    "def _sum(l):\n",
    "    sum = 0\n",
    "    for i in l :\n",
    "        if type(i) == int: \n",
    "            sum = sum + i\n",
    "        else :\n",
    "            pass\n",
    "    return sum\n",
    "\n",
    "l = [1,2,3,5,'abc',5,6]\n",
    "_sum(l)"
   ]
  },
  {
   "cell_type": "markdown",
   "id": "6c8f6f7b",
   "metadata": {},
   "source": [
    "Q.2 Write a Python Program to find largest element in an array?"
   ]
  },
  {
   "cell_type": "code",
   "execution_count": 31,
   "id": "dbcabbca",
   "metadata": {},
   "outputs": [
    {
     "data": {
      "text/plain": [
       "98"
      ]
     },
     "execution_count": 31,
     "metadata": {},
     "output_type": "execute_result"
    }
   ],
   "source": [
    "l = [1,58,5,6,98,9]\n",
    "max(l)"
   ]
  },
  {
   "cell_type": "markdown",
   "id": "619f2502",
   "metadata": {},
   "source": [
    "Q.3 Write a Python Program for array rotation?"
   ]
  },
  {
   "cell_type": "code",
   "execution_count": 105,
   "id": "484ea9ed",
   "metadata": {},
   "outputs": [
    {
     "data": {
      "text/plain": [
       "[12, 11, 10, 9, 8]"
      ]
     },
     "execution_count": 105,
     "metadata": {},
     "output_type": "execute_result"
    }
   ],
   "source": [
    "def rotation (l) :\n",
    "    temp = []\n",
    "    length = len(l)\n",
    "    for i in range (length-1, -1,-1) :        \n",
    "        d = l[i]\n",
    "        temp.append(d)\n",
    "    return temp\n",
    "\n",
    "l = [8,9,10,11,12]\n",
    "rotation(l)"
   ]
  },
  {
   "cell_type": "markdown",
   "id": "81b1b52c",
   "metadata": {},
   "source": [
    "Q.4 Write a Python Program to Split the array and add the first part to the end?"
   ]
  },
  {
   "cell_type": "code",
   "execution_count": 35,
   "id": "72d6bca8",
   "metadata": {},
   "outputs": [
    {
     "name": "stdout",
     "output_type": "stream",
     "text": [
      "Enter the position = 3\n"
     ]
    },
    {
     "data": {
      "text/plain": [
       "[11, 12, 15, 16, 18, 19, 8, 9, 10]"
      ]
     },
     "execution_count": 35,
     "metadata": {},
     "output_type": "execute_result"
    }
   ],
   "source": [
    "def _split(l):\n",
    "    pos = int(input (\"Enter the position = \"))\n",
    "    \n",
    "    for j in range (0,pos):\n",
    "        d = l[j]\n",
    "        l.append(d)\n",
    "        \n",
    "    for i in range(0,pos):        \n",
    "        l.pop(0)        \n",
    "    return l\n",
    "l = [8,9,10,11,12,15,16,18,19]\n",
    "_split(l)     "
   ]
  },
  {
   "cell_type": "markdown",
   "id": "0181dcd3",
   "metadata": {},
   "source": [
    "Q.5 Write a Python Program to check if given array is Monotonic?"
   ]
  },
  {
   "cell_type": "code",
   "execution_count": 76,
   "id": "76b2f694",
   "metadata": {},
   "outputs": [
    {
     "name": "stdout",
     "output_type": "stream",
     "text": [
      "Monotonic\n"
     ]
    }
   ],
   "source": [
    "def monotonic(l):\n",
    "    a,b = [0,0]\n",
    "    length = len(l)\n",
    "    for i in range(0,length-1):\n",
    "        if l[i+1] > l[i] :\n",
    "            a= a + 1\n",
    "        elif l[i+1] < l[i]:\n",
    "            b = b + 1\n",
    "    if 0 in [a,b]:\n",
    "        print (\"Monotonic\")\n",
    "    else :\n",
    "        print (\"Not Monotonic\")\n",
    "    \n",
    "l = [1,3,6,89]\n",
    "monotonic(l)\n",
    "    "
   ]
  }
 ],
 "metadata": {
  "kernelspec": {
   "display_name": "Python 3 (ipykernel)",
   "language": "python",
   "name": "python3"
  },
  "language_info": {
   "codemirror_mode": {
    "name": "ipython",
    "version": 3
   },
   "file_extension": ".py",
   "mimetype": "text/x-python",
   "name": "python",
   "nbconvert_exporter": "python",
   "pygments_lexer": "ipython3",
   "version": "3.9.7"
  }
 },
 "nbformat": 4,
 "nbformat_minor": 5
}
