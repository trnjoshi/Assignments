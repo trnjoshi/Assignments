{
 "cells": [
  {
   "cell_type": "markdown",
   "id": "b03198aa",
   "metadata": {},
   "source": [
    "Q.1 Write a Python Program to Find the Factorial of a Number?"
   ]
  },
  {
   "cell_type": "code",
   "execution_count": 14,
   "id": "faac68ba",
   "metadata": {},
   "outputs": [
    {
     "name": "stdout",
     "output_type": "stream",
     "text": [
      "Enter the number = 5\n",
      "factorial of 5 is 120\n"
     ]
    }
   ],
   "source": [
    "fact = 1\n",
    "n = int(input(\"Enter the number = \"))\n",
    "\n",
    "for i in range(1,n+1):\n",
    "    fact = fact*i\n",
    "\n",
    "print(\"factorial of\" , n, \"is\" ,fact)"
   ]
  },
  {
   "cell_type": "markdown",
   "id": "89be4b7c",
   "metadata": {},
   "source": [
    "Q. 2 Write a Python Program to Display the multiplication Table?"
   ]
  },
  {
   "cell_type": "code",
   "execution_count": 32,
   "id": "23fe695e",
   "metadata": {},
   "outputs": [
    {
     "name": "stdout",
     "output_type": "stream",
     "text": [
      "Enter the number = 37\n",
      "37 * 1 = 37\n",
      "37 * 2 = 74\n",
      "37 * 3 = 111\n",
      "37 * 4 = 148\n",
      "37 * 5 = 185\n",
      "37 * 6 = 222\n",
      "37 * 7 = 259\n",
      "37 * 8 = 296\n",
      "37 * 9 = 333\n",
      "37 * 10 = 370\n"
     ]
    }
   ],
   "source": [
    "n = int(input(\"Enter the number = \"))\n",
    "for j in range (1,11):\n",
    "    for i in range(1,j+1):\n",
    "        c = n * i \n",
    "    print(n , \"*\" , i ,\"=\" ,c)"
   ]
  },
  {
   "cell_type": "code",
   "execution_count": 34,
   "id": "5b553910",
   "metadata": {},
   "outputs": [
    {
     "name": "stdout",
     "output_type": "stream",
     "text": [
      "Enter the number = 37\n",
      "37 * 1 = 37\n",
      "37 * 2 = 74\n",
      "37 * 3 = 111\n",
      "37 * 4 = 148\n",
      "37 * 5 = 185\n",
      "37 * 6 = 222\n",
      "37 * 7 = 259\n",
      "37 * 8 = 296\n",
      "37 * 9 = 333\n",
      "37 * 10 = 370\n"
     ]
    }
   ],
   "source": [
    "n = int(input(\"Enter the number = \"))\n",
    "for i in range (1,11):\n",
    "    print(n , \"*\" , i ,\"=\" ,n*i)"
   ]
  },
  {
   "cell_type": "markdown",
   "id": "6aad58fa",
   "metadata": {},
   "source": [
    "Q.3 Write a Python Program to Print the Fibonacci sequence?"
   ]
  },
  {
   "cell_type": "code",
   "execution_count": 10,
   "id": "f93d48c5",
   "metadata": {},
   "outputs": [
    {
     "name": "stdout",
     "output_type": "stream",
     "text": [
      "Enter the no of elements = 12\n",
      "0\n",
      "1\n",
      "1\n",
      "2\n",
      "3\n",
      "5\n",
      "8\n",
      "13\n",
      "21\n",
      "34\n",
      "55\n",
      "89\n"
     ]
    }
   ],
   "source": [
    "n = int(input(\"Enter the no of elements = \"))\n",
    "count = 0 \n",
    "e1,e2 = 0 , 1\n",
    "while count < n:\n",
    "    print(e1)\n",
    "    e3 = e1 + e2 \n",
    "    e1 = e2\n",
    "    e2 = e3\n",
    "    count = count +1"
   ]
  },
  {
   "cell_type": "markdown",
   "id": "aa4ef275",
   "metadata": {},
   "source": [
    "Q.4 Write a Python Program to Check Armstrong Number?"
   ]
  },
  {
   "cell_type": "code",
   "execution_count": 23,
   "id": "3229b9e0",
   "metadata": {},
   "outputs": [
    {
     "name": "stdout",
     "output_type": "stream",
     "text": [
      "Enter the number = 1634\n",
      "1634 is an Armstrong number\n"
     ]
    }
   ],
   "source": [
    "n = int(input(\"Enter the number = \"))\n",
    "\n",
    "power = len(str(n))\n",
    "sum = 0\n",
    "\n",
    "a = n\n",
    "while a > 0:\n",
    "    digit = a % 10\n",
    "    sum += digit ** power\n",
    "    a //= 10\n",
    "if n == sum:\n",
    "    print(n,\"is an Armstrong number\")\n",
    "else:\n",
    "    print(n,\"is not an Armstrong number\")"
   ]
  },
  {
   "cell_type": "markdown",
   "id": "8e033b6d",
   "metadata": {},
   "source": [
    "Q.5 Write a Python Program to Find Armstrong Number in an Interval?"
   ]
  },
  {
   "cell_type": "code",
   "execution_count": 4,
   "id": "4a784cae",
   "metadata": {},
   "outputs": [
    {
     "name": "stdout",
     "output_type": "stream",
     "text": [
      "Enter the starting number = 200\n",
      "Enter the ending number = 5000\n",
      "370\n",
      "371\n",
      "407\n",
      "1634\n"
     ]
    }
   ],
   "source": [
    "l = int(input(\"Enter the starting number = \"))\n",
    "h = int(input(\"Enter the ending number = \"))\n",
    "\n",
    "for i in range(l, h+1) :    \n",
    "    power = len(str(i))\n",
    "    sum = 0\n",
    "    a = i\n",
    "    while a > 0:\n",
    "        digit = a % 10\n",
    "        sum += digit**power\n",
    "        a //= 10\n",
    "    if i == sum : \n",
    "        print(i)\n",
    "    "
   ]
  },
  {
   "cell_type": "markdown",
   "id": "b078a88c",
   "metadata": {},
   "source": [
    "Q.6 Write a Python Program to Find the Sum of Natural Numbers?"
   ]
  },
  {
   "cell_type": "code",
   "execution_count": 29,
   "id": "9fb469e7",
   "metadata": {},
   "outputs": [
    {
     "name": "stdout",
     "output_type": "stream",
     "text": [
      "Enter the number = 5\n",
      "sum of natural number is =  15\n"
     ]
    }
   ],
   "source": [
    "n = int(input(\"Enter the number = \"))\n",
    "\n",
    "if n < 0 :\n",
    "    print(\"Enter the positive number\")\n",
    "else:\n",
    "    sum = 0\n",
    "    while n > 0 :\n",
    "        sum = sum + n\n",
    "        n = n - 1\n",
    "    print(\"sum of natural number is = \" , sum)"
   ]
  },
  {
   "cell_type": "code",
   "execution_count": 30,
   "id": "054783dc",
   "metadata": {},
   "outputs": [
    {
     "name": "stdout",
     "output_type": "stream",
     "text": [
      "Enter the number = 5\n",
      "sum of natural number is =  15\n"
     ]
    }
   ],
   "source": [
    "n = int(input(\"Enter the number = \"))\n",
    "sum = 0\n",
    "for i in range (1,n+1):\n",
    "    sum = sum + i\n",
    "print(\"sum of natural number is = \" , sum)"
   ]
  }
 ],
 "metadata": {
  "kernelspec": {
   "display_name": "Python 3 (ipykernel)",
   "language": "python",
   "name": "python3"
  },
  "language_info": {
   "codemirror_mode": {
    "name": "ipython",
    "version": 3
   },
   "file_extension": ".py",
   "mimetype": "text/x-python",
   "name": "python",
   "nbconvert_exporter": "python",
   "pygments_lexer": "ipython3",
   "version": "3.9.7"
  }
 },
 "nbformat": 4,
 "nbformat_minor": 5
}
