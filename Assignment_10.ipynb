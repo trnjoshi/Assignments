{
 "cells": [
  {
   "cell_type": "markdown",
   "id": "dc574b68",
   "metadata": {},
   "source": [
    "Q.1 Write a Python program to find sum of elements in list?"
   ]
  },
  {
   "cell_type": "code",
   "execution_count": 10,
   "id": "8c2a1e88",
   "metadata": {},
   "outputs": [
    {
     "name": "stdout",
     "output_type": "stream",
     "text": [
      "sum of elements of list is: 33\n"
     ]
    }
   ],
   "source": [
    "l = [2,3,5,6,8,9]\n",
    "sum = 0\n",
    "length = len(l)\n",
    "for i in range(0,length):\n",
    "    sum = sum + l[i]\n",
    "print(\"sum of elements of list is:\",sum)"
   ]
  },
  {
   "cell_type": "markdown",
   "id": "b6680014",
   "metadata": {},
   "source": [
    "Q.2 Write a Python program to Multiply all numbers in the list?"
   ]
  },
  {
   "cell_type": "code",
   "execution_count": 21,
   "id": "1ed66761",
   "metadata": {},
   "outputs": [
    {
     "name": "stdout",
     "output_type": "stream",
     "text": [
      "Multiplication of elements of list is: 12960\n"
     ]
    }
   ],
   "source": [
    "l = [2,3,5,6,8,9]\n",
    "mul = 1\n",
    "length = len(l)\n",
    "for i in range(0,length):\n",
    "    mul = mul * l[i]\n",
    "print(\"Multiplication of elements of list is:\",mul)"
   ]
  },
  {
   "cell_type": "markdown",
   "id": "7c24b84d",
   "metadata": {},
   "source": [
    "Q.3 Write a Python program to find smallest number in a list?"
   ]
  },
  {
   "cell_type": "code",
   "execution_count": 34,
   "id": "3b4b8fe2",
   "metadata": {},
   "outputs": [
    {
     "name": "stdout",
     "output_type": "stream",
     "text": [
      "Smallest Number in list is 2\n"
     ]
    }
   ],
   "source": [
    "l = [2,3,5,6,8,9]\n",
    "print(\"Smallest Number in list is\",min(l))"
   ]
  },
  {
   "cell_type": "code",
   "execution_count": 36,
   "id": "1798bfe6",
   "metadata": {},
   "outputs": [
    {
     "name": "stdout",
     "output_type": "stream",
     "text": [
      "Enter number of elements in list: 5\n",
      "Enter elements: 2\n",
      "Enter elements: 3\n",
      "Enter elements: 4\n",
      "Enter elements: 8\n",
      "Enter elements: 6\n",
      "Smallest element is: 2\n"
     ]
    }
   ],
   "source": [
    "list1 = []\n",
    "num = int(input(\"Enter number of elements in list: \"))\n",
    " \n",
    "for i in range(1, num + 1):\n",
    "    ele= int(input(\"Enter elements: \"))\n",
    "    list1.append(ele)\n",
    "     \n",
    "print(\"Smallest element is:\", min(list1))"
   ]
  },
  {
   "cell_type": "markdown",
   "id": "b99ae694",
   "metadata": {},
   "source": [
    "Q.4 Write a Python program to find largest number in a list?"
   ]
  },
  {
   "cell_type": "code",
   "execution_count": 38,
   "id": "a7c8592a",
   "metadata": {},
   "outputs": [
    {
     "name": "stdout",
     "output_type": "stream",
     "text": [
      "Enter number of elements in list: 5\n",
      "Enter elements: 6\n",
      "Enter elements: 3\n",
      "Enter elements: 8\n",
      "Enter elements: 3\n",
      "Enter elements: 6\n",
      "largest element is: 8\n"
     ]
    }
   ],
   "source": [
    "list1 = []\n",
    "num = int(input(\"Enter number of elements in list: \"))\n",
    " \n",
    "for i in range(1, num + 1):\n",
    "    ele= int(input(\"Enter elements: \"))\n",
    "    list1.append(ele)\n",
    "     \n",
    "print(\"largest element is:\", max(list1))"
   ]
  },
  {
   "cell_type": "markdown",
   "id": "887f2e15",
   "metadata": {},
   "source": [
    "Q.5 Write a Python program to find second largest number in a list?"
   ]
  },
  {
   "cell_type": "code",
   "execution_count": 41,
   "id": "a8846d4b",
   "metadata": {},
   "outputs": [
    {
     "name": "stdout",
     "output_type": "stream",
     "text": [
      "Enter number of elements in list: 5\n",
      "Enter elements: 23\n",
      "Enter elements: 46\n",
      "Enter elements: 25\n",
      "Enter elements: 56\n",
      "Enter elements: 86\n",
      "Second Largest element in list is: 25\n"
     ]
    }
   ],
   "source": [
    "list1 = []\n",
    "num = int(input(\"Enter number of elements in list: \"))\n",
    " \n",
    "for i in range(1, num + 1):\n",
    "    ele= int(input(\"Enter elements: \"))\n",
    "    list1.append(ele)\n",
    "list1.sort()\n",
    "print(\"Second Largest element in list is:\",list1[1])"
   ]
  },
  {
   "cell_type": "markdown",
   "id": "c467f42e",
   "metadata": {},
   "source": [
    "Q.6 Write a Python program to find N largest elements from a list?"
   ]
  },
  {
   "cell_type": "code",
   "execution_count": 44,
   "id": "1a6a2359",
   "metadata": {},
   "outputs": [
    {
     "name": "stdout",
     "output_type": "stream",
     "text": [
      "Second Largest element in list is: [8, 9, 12]\n"
     ]
    }
   ],
   "source": [
    "l = [2,3,5,12,8,9]\n",
    "n = 3\n",
    "length = len(l)\n",
    "l.sort()\n",
    "print(\"Second Largest element in list is:\",l[-n:])"
   ]
  },
  {
   "cell_type": "markdown",
   "id": "ab1735db",
   "metadata": {},
   "source": [
    "Q.7 Write a Python program to print even numbers in a list?"
   ]
  },
  {
   "cell_type": "code",
   "execution_count": 72,
   "id": "aaf7f62f",
   "metadata": {},
   "outputs": [
    {
     "name": "stdout",
     "output_type": "stream",
     "text": [
      "Enter number of elements in list: 5\n",
      "Enter elements: 2\n",
      "Enter elements: 3\n",
      "Enter elements: 4\n",
      "Enter elements: 5\n",
      "Enter elements: 6\n",
      "2 4 6 "
     ]
    }
   ],
   "source": [
    "list1 = []\n",
    "list2 = []\n",
    "num = int(input(\"Enter number of elements in list: \"))\n",
    " \n",
    "for i in range(1, num + 1):\n",
    "    ele= int(input(\"Enter elements: \"))\n",
    "    list1.append(ele)\n",
    "\n",
    "for j in list1:\n",
    "    if j % 2 == 0 :\n",
    "        print(j,end= \" \")\n",
    "        "
   ]
  },
  {
   "cell_type": "markdown",
   "id": "f0a2ab10",
   "metadata": {},
   "source": [
    "Q.8 Write a Python program to print odd numbers in a List?"
   ]
  },
  {
   "cell_type": "code",
   "execution_count": 73,
   "id": "48ed17fb",
   "metadata": {},
   "outputs": [
    {
     "name": "stdout",
     "output_type": "stream",
     "text": [
      "Enter number of elements in list: 5\n",
      "Enter elements: 2\n",
      "Enter elements: 3\n",
      "Enter elements: 4\n",
      "Enter elements: 5\n",
      "Enter elements: 6\n",
      "3 5 "
     ]
    }
   ],
   "source": [
    "list1 = []\n",
    "list2 = []\n",
    "num = int(input(\"Enter number of elements in list: \"))\n",
    " \n",
    "for i in range(1, num + 1):\n",
    "    ele= int(input(\"Enter elements: \"))\n",
    "    list1.append(ele)\n",
    "\n",
    "for j in list1:\n",
    "    if j % 2 != 0 :\n",
    "        print(j,end= \" \")"
   ]
  },
  {
   "cell_type": "markdown",
   "id": "246c7446",
   "metadata": {},
   "source": [
    "Q.9 Write a Python program to Remove empty List from List?"
   ]
  },
  {
   "cell_type": "code",
   "execution_count": 78,
   "id": "27a9fee1",
   "metadata": {},
   "outputs": [
    {
     "name": "stdout",
     "output_type": "stream",
     "text": [
      "[8, 10, 6, 15, 26]\n"
     ]
    }
   ],
   "source": [
    "l = [8, 10, [],6,[],15,26,[],[]]\n",
    "\n",
    "l2 = [i for i in l if i != []]\n",
    "\n",
    "print(l2)"
   ]
  },
  {
   "cell_type": "markdown",
   "id": "a37cb033",
   "metadata": {},
   "source": [
    "Q.10 Write a Python program to Cloning or Copying a list?"
   ]
  },
  {
   "cell_type": "code",
   "execution_count": 2,
   "id": "158715d6",
   "metadata": {},
   "outputs": [
    {
     "name": "stdout",
     "output_type": "stream",
     "text": [
      "[1, 2, 3, 4, 5, 6]\n"
     ]
    }
   ],
   "source": [
    "def clone(l1):\n",
    "    l2=[]\n",
    "    for i in l1:\n",
    "        l2.append(i)\n",
    "    return l2\n",
    "l3 = [1,2,3,4,5,6]\n",
    "l4 = clone(l3)\n",
    "print(l4)"
   ]
  },
  {
   "cell_type": "markdown",
   "id": "d630a7bb",
   "metadata": {},
   "source": [
    "Q.11 Write a Python program to Count occurrences of an element in a list?"
   ]
  },
  {
   "cell_type": "code",
   "execution_count": 14,
   "id": "52845b21",
   "metadata": {},
   "outputs": [
    {
     "name": "stdout",
     "output_type": "stream",
     "text": [
      "6 has occurred 4 times\n"
     ]
    }
   ],
   "source": [
    "def cout(lst,n):\n",
    "    count = 0\n",
    "    for i in lst:\n",
    "        if i == n :\n",
    "            count = count + 1\n",
    "    return count\n",
    "lst=[2,2,3,5,6,8,8,9,6,6,6,4]\n",
    "n=6\n",
    "print('{} has occurred {} times'.format(n, cout(lst, n)))"
   ]
  },
  {
   "cell_type": "code",
   "execution_count": null,
   "id": "144ca9fe",
   "metadata": {},
   "outputs": [],
   "source": []
  }
 ],
 "metadata": {
  "kernelspec": {
   "display_name": "Python 3 (ipykernel)",
   "language": "python",
   "name": "python3"
  },
  "language_info": {
   "codemirror_mode": {
    "name": "ipython",
    "version": 3
   },
   "file_extension": ".py",
   "mimetype": "text/x-python",
   "name": "python",
   "nbconvert_exporter": "python",
   "pygments_lexer": "ipython3",
   "version": "3.9.7"
  }
 },
 "nbformat": 4,
 "nbformat_minor": 5
}
