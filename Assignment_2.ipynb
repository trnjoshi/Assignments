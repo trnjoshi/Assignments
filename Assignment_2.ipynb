{
 "cells": [
  {
   "cell_type": "markdown",
   "id": "84feba64",
   "metadata": {},
   "source": [
    "Q.1 Write a Python program to convert kilometers to miles?"
   ]
  },
  {
   "cell_type": "code",
   "execution_count": 2,
   "id": "58685a6d",
   "metadata": {},
   "outputs": [
    {
     "name": "stdout",
     "output_type": "stream",
     "text": [
      "Enter kilometer = 5\n",
      "Equivalent miles is = 3.107520198881293\n"
     ]
    }
   ],
   "source": [
    "k = float(input(\"Enter kilometer = \"))\n",
    "mile = print (\"Equivalent miles is =\",(k/1.609))"
   ]
  },
  {
   "cell_type": "markdown",
   "id": "21071ef7",
   "metadata": {},
   "source": [
    "Q.2 Write a Python program to convert Celsius to Fahrenheit?"
   ]
  },
  {
   "cell_type": "code",
   "execution_count": 6,
   "id": "891bb478",
   "metadata": {},
   "outputs": [
    {
     "name": "stdout",
     "output_type": "stream",
     "text": [
      "Enter temp in celsius =-40\n",
      "Equivalent temp in Fahrenheit is =  -40.0\n"
     ]
    }
   ],
   "source": [
    "c = float(input(\"Enter temp in celsius =\"))\n",
    "f = (c*9/5) + 32\n",
    "print (\"Equivalent temp in Fahrenheit is = \", f)"
   ]
  },
  {
   "cell_type": "markdown",
   "id": "ad111d5a",
   "metadata": {},
   "source": [
    "Q.3 Write a Python program to display calendar?"
   ]
  },
  {
   "cell_type": "code",
   "execution_count": 10,
   "id": "d63e7793",
   "metadata": {},
   "outputs": [
    {
     "name": "stdout",
     "output_type": "stream",
     "text": [
      "Enter the year= 2022\n",
      "Enter the month= 01\n",
      "    January 2022\n",
      "Mo Tu We Th Fr Sa Su\n",
      "                1  2\n",
      " 3  4  5  6  7  8  9\n",
      "10 11 12 13 14 15 16\n",
      "17 18 19 20 21 22 23\n",
      "24 25 26 27 28 29 30\n",
      "31\n",
      "\n"
     ]
    }
   ],
   "source": [
    "import calendar\n",
    "y = int(input(\"Enter the year= \"))\n",
    "m = int(input(\"Enter the month= \"))\n",
    "c = calendar.month(y,m)\n",
    "print(c)"
   ]
  },
  {
   "cell_type": "markdown",
   "id": "128a4ea5",
   "metadata": {},
   "source": [
    "Q.4 Write a Python program to solve quadratic equation?"
   ]
  },
  {
   "cell_type": "code",
   "execution_count": 28,
   "id": "f436e803",
   "metadata": {},
   "outputs": [],
   "source": [
    "import math\n",
    "def roots (a,b,c):\n",
    "    \"\"\"function to find the roots of quadratic equations. Enter the value of three Coefficient in sequence\"\"\"\n",
    "    d = b**2 - 4*a*c \n",
    "    squrt_d = math.sqrt(abs(d))\n",
    "    Root1 = (-b + squrt_d)/(2 * a)\n",
    "    Root2 = (-b - squrt_d)/(2 * a)\n",
    "    \n",
    "    if d > 0 :\n",
    "        print(\"Roots of equation are real and distinct\")\n",
    "        print(\"Root1 = \" , Root1 )\n",
    "        print(\"Root1 = \" , Root2)\n",
    "    \n",
    "    elif d == 0 :\n",
    "        print(\"Roots of equation are real and same\")\n",
    "        print(\"Root1 & Root2 = \" , Root1 )\n",
    "        \n",
    "    else :\n",
    "        print(\"Roots of equation are complex\")\n",
    "        print(\"Root1 = \" , - b / (2 * a), \" + j\",squrt_d)\n",
    "        print(\"Root1 = \" , - b / (2 * a), \" - j\", squrt_d)\n",
    "        \n",
    "    "
   ]
  },
  {
   "cell_type": "code",
   "execution_count": 33,
   "id": "be14ecc7",
   "metadata": {},
   "outputs": [
    {
     "name": "stdout",
     "output_type": "stream",
     "text": [
      "Roots of equation are real and same\n",
      "Root1 & Root2 =  -1.0\n"
     ]
    }
   ],
   "source": [
    "roots(3,6,3)"
   ]
  },
  {
   "cell_type": "code",
   "execution_count": 40,
   "id": "8efc9263",
   "metadata": {},
   "outputs": [
    {
     "name": "stdout",
     "output_type": "stream",
     "text": [
      "Roots of equation are complex\n",
      "Root1 =  -0.3  + j 42.13074886588179\n",
      "Root1 =  -0.3  - j 42.13074886588179\n"
     ]
    }
   ],
   "source": [
    "roots(25,15,20)"
   ]
  },
  {
   "cell_type": "code",
   "execution_count": 37,
   "id": "bce427e8",
   "metadata": {},
   "outputs": [
    {
     "name": "stdout",
     "output_type": "stream",
     "text": [
      "Roots of equation are real and distinct\n",
      "Root1 =  -0.6867739423475354\n",
      "Root1 =  -1.4560832005096074\n"
     ]
    }
   ],
   "source": [
    "roots(7,15,7)"
   ]
  },
  {
   "cell_type": "markdown",
   "id": "ec0c6342",
   "metadata": {},
   "source": [
    "Q.5 Write a Python program to swap two variables without temp variable?"
   ]
  },
  {
   "cell_type": "code",
   "execution_count": 42,
   "id": "c16400cd",
   "metadata": {},
   "outputs": [
    {
     "name": "stdout",
     "output_type": "stream",
     "text": [
      "Enter first variable = 10\n",
      "Enter second variable = 20\n",
      "First variable after swapping is =  20\n",
      "Second variable after swapping is =  10\n"
     ]
    }
   ],
   "source": [
    "a = input(\"Enter first variable = \")\n",
    "b = input(\"Enter second variable = \")\n",
    "\n",
    "a,b = b,a \n",
    "\n",
    "print(\"First variable after swapping is = \" ,a)\n",
    "print(\"Second variable after swapping is = \",b)"
   ]
  }
 ],
 "metadata": {
  "kernelspec": {
   "display_name": "Python 3 (ipykernel)",
   "language": "python",
   "name": "python3"
  },
  "language_info": {
   "codemirror_mode": {
    "name": "ipython",
    "version": 3
   },
   "file_extension": ".py",
   "mimetype": "text/x-python",
   "name": "python",
   "nbconvert_exporter": "python",
   "pygments_lexer": "ipython3",
   "version": "3.9.7"
  }
 },
 "nbformat": 4,
 "nbformat_minor": 5
}
