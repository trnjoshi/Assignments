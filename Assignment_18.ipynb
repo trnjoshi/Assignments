{
 "cells": [
  {
   "cell_type": "markdown",
   "id": "54a2b626",
   "metadata": {},
   "source": [
    "Q.1 Create a function that takes a list of non-negative integers and strings and return a new list\n",
    "without the strings.\n",
    "Examples\n",
    "filter_list([1, 2, &quot;a&quot;, &quot;b&quot;]) ➞ [1, 2]\n",
    "filter_list([1, &quot;a&quot;, &quot;b&quot;, 0, 15]) ➞ [1, 0, 15]\n",
    "filter_list([1, 2, &quot;aasf&quot;, &quot;1&quot;, &quot;123&quot;, 123]) ➞ [1, 2, 123]"
   ]
  },
  {
   "cell_type": "code",
   "execution_count": 2,
   "id": "730e8ecc",
   "metadata": {},
   "outputs": [
    {
     "data": {
      "text/plain": [
       "[1, 2]"
      ]
     },
     "execution_count": 2,
     "metadata": {},
     "output_type": "execute_result"
    }
   ],
   "source": [
    "l = [1,2,'a','b']\n",
    "\n",
    "def filter_list(l):\n",
    "    new_list = []\n",
    "    for x in l:\n",
    "        if type(x) == int:\n",
    "            new_list.append(x)\n",
    "    return new_list\n",
    "filter_list(l)"
   ]
  },
  {
   "cell_type": "markdown",
   "id": "70e13282",
   "metadata": {},
   "source": [
    "Q.2 The &quot;Reverser&quot; takes a string as input and returns that string in reverse order, with the\n",
    "opposite case.\n",
    "Examples\n",
    "reverse(&quot;Hello World&quot;) ➞ &quot;DLROw OLLEh&quot;\n",
    "reverse(&quot;ReVeRsE&quot;) ➞ &quot;eSrEvEr&quot;\n",
    "reverse(&quot;Radar&quot;) ➞ &quot;RADAr&quot;"
   ]
  },
  {
   "cell_type": "code",
   "execution_count": 5,
   "id": "a45e51cb",
   "metadata": {},
   "outputs": [
    {
     "name": "stdout",
     "output_type": "stream",
     "text": [
      "RevErSE\n"
     ]
    }
   ],
   "source": [
    "def wordReverse(str):\n",
    "    i = len(str)-1\n",
    "    start = end = i+1\n",
    "    result = ''\n",
    " \n",
    "    while i >= 0:\n",
    "        if str[i] == ' ':\n",
    "            start = i+1\n",
    "            while start != end:\n",
    "                result += str[start]\n",
    "                start += 1\n",
    "            result += ' '\n",
    "            end = i\n",
    "        i -= 1\n",
    "    start = 0\n",
    "    while start != end:\n",
    "        result += str[start]\n",
    "        start += 1\n",
    "    return result\n",
    " \n",
    " \n",
    "# Driver Code\n",
    "str = 'RevErSE'\n",
    "print(wordReverse(str))"
   ]
  },
  {
   "cell_type": "code",
   "execution_count": null,
   "id": "673d1abd",
   "metadata": {},
   "outputs": [],
   "source": [
    "Q.3 You can assign variables from lists like this:\n",
    "lst = [1, 2, 3, 4, 5, 6]\n",
    "first = lst[0]\n",
    "middle = lst[1:-1]\n",
    "last = lst[-1]\n",
    "print(first) ➞ outputs 1\n",
    "print(middle) ➞ outputs [2, 3, 4, 5]\n",
    "print(last) ➞ outputs 6\n",
    "With Python 3, you can assign variables from lists in a much more succinct way. Create\n",
    "variables first, middle and last from the given list using destructuring assignment\n",
    "(check the Resources tab for some examples), where:\n",
    "first ➞ 1\n",
    "middle ➞ [2, 3, 4, 5]\n",
    "last ➞ 6\n",
    "\n",
    "Your task is to unpack the list writeyourcodehere into three variables, being first,\n",
    "middle, and last, with middle being everything in between the first and last element. Then\n",
    "print all three variables."
   ]
  },
  {
   "cell_type": "code",
   "execution_count": 1,
   "id": "665e2636",
   "metadata": {},
   "outputs": [],
   "source": [
    "first,*middle,last = [1, 2, 3, 4, 5, 6]"
   ]
  },
  {
   "cell_type": "code",
   "execution_count": 2,
   "id": "c0e4d0f9",
   "metadata": {},
   "outputs": [
    {
     "name": "stdout",
     "output_type": "stream",
     "text": [
      "1\n"
     ]
    }
   ],
   "source": [
    "print(first)"
   ]
  },
  {
   "cell_type": "code",
   "execution_count": 3,
   "id": "6dc32db2",
   "metadata": {},
   "outputs": [
    {
     "name": "stdout",
     "output_type": "stream",
     "text": [
      "[2, 3, 4, 5]\n"
     ]
    }
   ],
   "source": [
    "print(middle)"
   ]
  },
  {
   "cell_type": "code",
   "execution_count": 4,
   "id": "96bf40dd",
   "metadata": {},
   "outputs": [
    {
     "name": "stdout",
     "output_type": "stream",
     "text": [
      "6\n"
     ]
    }
   ],
   "source": [
    "print(last)"
   ]
  },
  {
   "cell_type": "code",
   "execution_count": null,
   "id": "9f3e2f03",
   "metadata": {},
   "outputs": [],
   "source": [
    "Q.4 Write a function that calculates the factorial of a number recursively.\n",
    "Examples\n",
    "factorial(5) ➞ 120\n",
    "factorial(3) ➞ 6\n",
    "factorial(1) ➞ 1\n",
    "factorial(0) ➞ 1"
   ]
  },
  {
   "cell_type": "code",
   "execution_count": 6,
   "id": "e976b913",
   "metadata": {},
   "outputs": [
    {
     "name": "stdout",
     "output_type": "stream",
     "text": [
      "120\n"
     ]
    }
   ],
   "source": [
    "def factorial(n):\n",
    "      \n",
    "    if n == 0:\n",
    "        return 1\n",
    "     \n",
    "    return n * factorial(n-1)\n",
    "  \n",
    "# Driver Code\n",
    "num = 5;\n",
    "print(factorial(num))"
   ]
  },
  {
   "cell_type": "code",
   "execution_count": null,
   "id": "ce1cebe6",
   "metadata": {},
   "outputs": [],
   "source": [
    "Q.5 Write a function that moves all elements of one type to the end of the list.\n",
    "Examples\n",
    "move_to_end([1, 3, 2, 4, 4, 1], 1) ➞ [3, 2, 4, 4, 1, 1]\n",
    "# Move all the 1s to the end of the array.\n",
    "move_to_end([7, 8, 9, 1, 2, 3, 4], 9) ➞ [7, 8, 1, 2, 3, 4, 9]\n",
    "move_to_end([&quot;a&quot;, &quot;a&quot;, &quot;a&quot;, &quot;b&quot;], &quot;a&quot;) ➞ [&quot;b&quot;, &quot;a&quot;, &quot;a&quot;, &quot;a&quot;]"
   ]
  },
  {
   "cell_type": "code",
   "execution_count": 11,
   "id": "a04321f0",
   "metadata": {},
   "outputs": [
    {
     "name": "stdout",
     "output_type": "stream",
     "text": [
      "1 1 6 5 3 "
     ]
    }
   ],
   "source": [
    "def move_to_end(array, toMove):   \n",
    "    i = 0      \n",
    "    j = len(array) - 1  \n",
    "    while (i < j):  \n",
    "        while (i < j and array[j] == toMove):             \n",
    "            j-=1\n",
    "  \n",
    "        if (array[i] == toMove):           \n",
    "            array[i], array[j] = array[j] , array[i]       \n",
    "        i += 1 \n",
    "    return array\n",
    "if __name__ ==\"__main__\":\n",
    "  \n",
    "    arr = [ 1, 1, 3, 5, 6 ]\n",
    "    K = 3\n",
    "    ans = move_to_end(arr, K)\n",
    "    for i in range(len(arr)):\n",
    "        print(ans[i] ,end= \" \")"
   ]
  },
  {
   "cell_type": "code",
   "execution_count": null,
   "id": "15ae0921",
   "metadata": {},
   "outputs": [],
   "source": []
  }
 ],
 "metadata": {
  "kernelspec": {
   "display_name": "Python 3 (ipykernel)",
   "language": "python",
   "name": "python3"
  },
  "language_info": {
   "codemirror_mode": {
    "name": "ipython",
    "version": 3
   },
   "file_extension": ".py",
   "mimetype": "text/x-python",
   "name": "python",
   "nbconvert_exporter": "python",
   "pygments_lexer": "ipython3",
   "version": "3.9.7"
  }
 },
 "nbformat": 4,
 "nbformat_minor": 5
}
