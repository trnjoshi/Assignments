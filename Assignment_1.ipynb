{
 "cells": [
  {
   "cell_type": "markdown",
   "id": "aafa54b8",
   "metadata": {},
   "source": [
    "Q.1 Write a Python program to print \"Hello Python\" ?"
   ]
  },
  {
   "cell_type": "code",
   "execution_count": 1,
   "id": "cb9ab6a8",
   "metadata": {},
   "outputs": [
    {
     "name": "stdout",
     "output_type": "stream",
     "text": [
      "Hello Python\n"
     ]
    }
   ],
   "source": [
    "print(\"Hello Python\")"
   ]
  },
  {
   "cell_type": "markdown",
   "id": "2d3cc7d8",
   "metadata": {},
   "source": [
    "Q.2 Write a Python program to do arithmetical operations addition and division.?"
   ]
  },
  {
   "cell_type": "code",
   "execution_count": 3,
   "id": "91d407de",
   "metadata": {},
   "outputs": [
    {
     "name": "stdout",
     "output_type": "stream",
     "text": [
      "addition of  10 & 20 is 30\n",
      "division of  10 & 20 is 0.5\n"
     ]
    }
   ],
   "source": [
    "a = 10 \n",
    "b = 20\n",
    "c = a + b\n",
    "print(\"addition of \", a, \"&\" , b, \"is\" , c)\n",
    "d = a / b \n",
    "print (\"division of \", a, \"&\" , b, \"is\" , d)"
   ]
  },
  {
   "cell_type": "markdown",
   "id": "e6638071",
   "metadata": {},
   "source": [
    "Q.3 Write a Python program to find the area of a triangle?"
   ]
  },
  {
   "cell_type": "code",
   "execution_count": 12,
   "id": "57087548",
   "metadata": {},
   "outputs": [
    {
     "name": "stdout",
     "output_type": "stream",
     "text": [
      "enter the base of triangle = 5\n",
      "enter the height of triangle = 10\n",
      "area of triangle is given by = 25.0\n"
     ]
    }
   ],
   "source": [
    "b = float (input(\"enter the base of triangle = \"))\n",
    "h = float(input(\"enter the height of triangle = \"))\n",
    "\n",
    "area = (b*h)/2\n",
    "\n",
    "print(\"area of triangle is given by =\",area )\n"
   ]
  },
  {
   "cell_type": "markdown",
   "id": "e3fa926a",
   "metadata": {},
   "source": [
    "Q.4 Write a Python program to swap two variables?"
   ]
  },
  {
   "cell_type": "code",
   "execution_count": 16,
   "id": "14e22008",
   "metadata": {},
   "outputs": [
    {
     "name": "stdout",
     "output_type": "stream",
     "text": [
      "Enter the first variable 5\n",
      "Enter the second variable 3\n",
      "first variable after swaping is =  3\n",
      "second variable after swaping is =  5\n"
     ]
    }
   ],
   "source": [
    "a = input(\"Enter the first variable =\")\n",
    "b = input(\"Enter the second variable =\")\n",
    "\n",
    "c = a \n",
    "a = b\n",
    "b = c\n",
    "\n",
    "print(\"first variable after swaping is = \" ,a)\n",
    "print(\"second variable after swaping is = \" ,b)"
   ]
  },
  {
   "cell_type": "markdown",
   "id": "39503bee",
   "metadata": {},
   "source": [
    "Q.5 Write a Python program to generate a random number?"
   ]
  },
  {
   "cell_type": "code",
   "execution_count": 50,
   "id": "1a13918c",
   "metadata": {},
   "outputs": [
    {
     "name": "stdout",
     "output_type": "stream",
     "text": [
      "Random number is = 27\n"
     ]
    }
   ],
   "source": [
    "import random\n",
    "c = random.randint(0,50)\n",
    "print(\"Random number is =\", c)  "
   ]
  }
 ],
 "metadata": {
  "kernelspec": {
   "display_name": "Python 3 (ipykernel)",
   "language": "python",
   "name": "python3"
  },
  "language_info": {
   "codemirror_mode": {
    "name": "ipython",
    "version": 3
   },
   "file_extension": ".py",
   "mimetype": "text/x-python",
   "name": "python",
   "nbconvert_exporter": "python",
   "pygments_lexer": "ipython3",
   "version": "3.9.7"
  }
 },
 "nbformat": 4,
 "nbformat_minor": 5
}
