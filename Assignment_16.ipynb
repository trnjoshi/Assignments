{
 "cells": [
  {
   "cell_type": "markdown",
   "id": "ac6c762f",
   "metadata": {},
   "source": [
    "Q.1 Question1. Write a function that stutters a word as if someone is struggling to read it. The\n",
    "first two letters are repeated twice with an ellipsis ... and space after each, and then the\n",
    "word is pronounced with a question mark ?.\n",
    "Examples\n",
    "stutter(&quot;incredible&quot;) ➞ &quot;in... in... incredible?&quot;\n",
    "stutter(&quot;enthusiastic&quot;) ➞ &quot;en... en... enthusiastic?&quot;\n",
    "stutter(&quot;outstanding&quot;) ➞ &quot;ou... ou... outstanding?&quot;\n",
    "\n",
    "Hint :- Assume all input is in lower case and at least two characters long."
   ]
  },
  {
   "cell_type": "code",
   "execution_count": 2,
   "id": "379e1424",
   "metadata": {},
   "outputs": [
    {
     "name": "stdout",
     "output_type": "stream",
     "text": [
      "in... in... incredible?\n"
     ]
    }
   ],
   "source": [
    "def stutter(word):\n",
    "    w = word[:2]\n",
    "    return (2 * (w + '... ')) + word + '?'\n",
    "\n",
    "\n",
    "print(stutter(\"incredible\"))"
   ]
  },
  {
   "cell_type": "markdown",
   "id": "85a87d88",
   "metadata": {},
   "source": [
    "Question 2.Create a function that takes an angle in radians and returns the corresponding\n",
    "angle in degrees rounded to one decimal place.\n",
    "Examples\n",
    "radians_to_degrees(1) ➞ 57.3\n",
    "radians_to_degrees(20) ➞ 1145.9\n",
    "radians_to_degrees(50) ➞ 2864.8"
   ]
  },
  {
   "cell_type": "code",
   "execution_count": 13,
   "id": "dd6bc70b",
   "metadata": {},
   "outputs": [
    {
     "data": {
      "text/plain": [
       "57.3"
      ]
     },
     "execution_count": 13,
     "metadata": {},
     "output_type": "execute_result"
    }
   ],
   "source": [
    "import math\n",
    "def rad_deg(n):\n",
    "    d = n * (180 / 3.14)\n",
    "    return round(d,1)\n",
    "rad_deg(1)"
   ]
  },
  {
   "cell_type": "code",
   "execution_count": null,
   "id": "e2323af0",
   "metadata": {},
   "outputs": [],
   "source": [
    "Q.3 In this challenge, establish if a given integer num is a Curzon number. If 1 plus\n",
    "2 elevated to num is exactly divisible by 1 plus 2 multiplied by num, then num is a Curzon\n",
    "number.\n",
    "Given a non-negative integer num, implement a function that returns True if num is a Curzon\n",
    "number, or False otherwise.\n",
    "Examples\n",
    "is_curzon(5) ➞ True\n",
    "# 2 ** 5 + 1 = 33\n",
    "# 2 * 5 + 1 = 11\n",
    "# 33 is a multiple of 11\n",
    "is_curzon(10) ➞ False\n",
    "# 2 ** 10 + 1 = 1025\n",
    "# 2 * 10 + 1 = 21\n",
    "# 1025 is not a multiple of 21\n",
    "is_curzon(14) ➞ True\n",
    "# 2 ** 14 + 1 = 16385\n",
    "# 2 * 14 + 1 = 29\n",
    "# 16385 is a multiple of 29"
   ]
  },
  {
   "cell_type": "code",
   "execution_count": 18,
   "id": "8bf3ef81",
   "metadata": {},
   "outputs": [
    {
     "data": {
      "text/plain": [
       "True"
      ]
     },
     "execution_count": 18,
     "metadata": {},
     "output_type": "execute_result"
    }
   ],
   "source": [
    "def curzon(n):\n",
    "    c = (2**n) +1\n",
    "    d = (2*n)+1\n",
    "    if c % d == 0 :\n",
    "        return True\n",
    "    else :\n",
    "        return False\n",
    "curzon(14)"
   ]
  },
  {
   "cell_type": "markdown",
   "id": "a8243b38",
   "metadata": {},
   "source": [
    "Q.4 4.Given the side length x find the area of a hexagon.\n",
    "area_of_hexagon(1) ➞ 2.6\n",
    "area_of_hexagon(2) ➞ 10.4\n",
    "area_of_hexagon(3) ➞ 23.4"
   ]
  },
  {
   "cell_type": "code",
   "execution_count": 29,
   "id": "7bc4e7e0",
   "metadata": {},
   "outputs": [
    {
     "data": {
      "text/plain": [
       "2.6"
      ]
     },
     "execution_count": 29,
     "metadata": {},
     "output_type": "execute_result"
    }
   ],
   "source": [
    "import math\n",
    "def area_of_hexagon(s):\n",
    "    a = 3*(math.sqrt(3)) *(s*s) / 2\n",
    "    return round(a,1)\n",
    "area_of_hexagon(5)"
   ]
  },
  {
   "cell_type": "markdown",
   "id": "db73c397",
   "metadata": {},
   "source": [
    "Q.5Question 5. Create a function that returns a base-2 (binary) representation of a base-10\n",
    "(decimal) string number. To convert is simple: ((2) means base-2 and (10) means base-10)\n",
    "010101001(2) = 1 + 8 + 32 + 128.\n",
    "Going from right to left, the value of the most right bit is 1, now from that every bit to the left\n",
    "will be x2 the value, value of an 8 bit binary numbers are (256, 128, 64, 32, 16, 8, 4, 2, 1).\n",
    "Examples\n",
    "binary(1) ➞ &quot;1&quot;\n",
    "#1*1 = 1\n",
    "binary(5) ➞ &quot;101&quot;\n",
    "#1*1 + 1*4 = 5\n",
    "binary(10) ➞ &quot;1010&quot;\n",
    "#1*2 + 1*8 = 10"
   ]
  },
  {
   "cell_type": "code",
   "execution_count": 33,
   "id": "45e7c6c6",
   "metadata": {},
   "outputs": [
    {
     "name": "stdout",
     "output_type": "stream",
     "text": [
      "85\n"
     ]
    }
   ],
   "source": [
    "def binaryToDecimal(n):\n",
    "    num = n;\n",
    "    dec_value = 0;        \n",
    "    base = 1;\n",
    "    \n",
    "    temp = num;\n",
    "    while(temp):\n",
    "        last_digit = temp % 10;\n",
    "        temp = int(temp / 10);\n",
    "         \n",
    "        dec_value += last_digit * base;\n",
    "        base = base * 2;\n",
    "    return dec_value;\n",
    " \n",
    "num = 1010101;\n",
    "print(binaryToDecimal(num));"
   ]
  }
 ],
 "metadata": {
  "kernelspec": {
   "display_name": "Python 3 (ipykernel)",
   "language": "python",
   "name": "python3"
  },
  "language_info": {
   "codemirror_mode": {
    "name": "ipython",
    "version": 3
   },
   "file_extension": ".py",
   "mimetype": "text/x-python",
   "name": "python",
   "nbconvert_exporter": "python",
   "pygments_lexer": "ipython3",
   "version": "3.9.7"
  }
 },
 "nbformat": 4,
 "nbformat_minor": 5
}
