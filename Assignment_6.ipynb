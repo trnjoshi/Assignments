{
 "cells": [
  {
   "cell_type": "markdown",
   "id": "80cb591a",
   "metadata": {},
   "source": [
    "Q.1 Write a Python Program to Display Fibonacci Sequence Using Recursion?"
   ]
  },
  {
   "cell_type": "code",
   "execution_count": 4,
   "id": "7182f137",
   "metadata": {},
   "outputs": [
    {
     "name": "stdout",
     "output_type": "stream",
     "text": [
      "Enter the number of turms = 5\n",
      "Fibonacci sequence:\n",
      "0\n",
      "1\n",
      "1\n",
      "2\n",
      "3\n"
     ]
    }
   ],
   "source": [
    "def recur_fibo(n):\n",
    "   if n <= 1:\n",
    "       return n\n",
    "   else:\n",
    "       return(recur_fibo(n-1) + recur_fibo(n-2))\n",
    "\n",
    "terms = int(input(\"Enter the number of turms = \"))\n",
    "\n",
    "\n",
    "if nterms <= 0:\n",
    "   print(\"Plese enter a positive integer\")\n",
    "else:\n",
    "   print(\"Fibonacci sequence:\")\n",
    "   for i in range(terms):\n",
    "       print(recur_fibo(i))"
   ]
  },
  {
   "cell_type": "markdown",
   "id": "4e5981ba",
   "metadata": {},
   "source": [
    "Q.2 Write a Python Program to Find Factorial of Number Using Recursion?"
   ]
  },
  {
   "cell_type": "code",
   "execution_count": 39,
   "id": "b2b49e7a",
   "metadata": {},
   "outputs": [
    {
     "data": {
      "text/plain": [
       "120"
      ]
     },
     "execution_count": 39,
     "metadata": {},
     "output_type": "execute_result"
    }
   ],
   "source": [
    "def recur_factorial(n):\n",
    "    if n == 1:\n",
    "        return n\n",
    "    else:\n",
    "        return n*recur_factorial(n-1)\n",
    "\n",
    "recur_factorial(5)"
   ]
  },
  {
   "cell_type": "markdown",
   "id": "d12531dd",
   "metadata": {},
   "source": [
    "Q.3 Write a Python Program to calculate your Body Mass Index?"
   ]
  },
  {
   "cell_type": "code",
   "execution_count": 47,
   "id": "3ae09cf5",
   "metadata": {},
   "outputs": [
    {
     "name": "stdout",
     "output_type": "stream",
     "text": [
      "Input your height in Feet = 5.7\n",
      "Input your weight in Kilogram = 60\n",
      "Your BMI is 19.88 & you are normal weight\n"
     ]
    }
   ],
   "source": [
    "h = float(input(\"Input your height in Feet = \"))\n",
    "w = float(input(\"Input your weight in Kilogram = \"))\n",
    "bmii = round(w / (h/3.281)**2,2)\n",
    "\n",
    "if bmii <= 18 :\n",
    "    print (\"Your BMI is\" , bmii , \"& you are under weight\")\n",
    "elif bmii <= 24.9 :\n",
    "    print (\"Your BMI is\" , bmii , \"& you are normal weight\")\n",
    "elif bmii <= 29.9 :\n",
    "    print (\"Your BMI is\" , bmii , \"& you are overweight weight\")\n",
    "else :\n",
    "    print (\"Your BMI is\" , bmii , \"& you are having obsecity\")\n",
    "    "
   ]
  },
  {
   "cell_type": "markdown",
   "id": "f0834bb9",
   "metadata": {},
   "source": [
    "Q.4 Write a Python Program to calculate the natural logarithm of any number?"
   ]
  },
  {
   "cell_type": "code",
   "execution_count": 55,
   "id": "309f5071",
   "metadata": {},
   "outputs": [
    {
     "name": "stdout",
     "output_type": "stream",
     "text": [
      "Enter a natural number = 10\n",
      "Natural log of  10 is =  2.3026\n"
     ]
    }
   ],
   "source": [
    "import math\n",
    "\n",
    "n = int(input(\"Enter a natural number = \"))\n",
    "print(\"Natural log of \" , n ,\"is = \" ,round(math.log(n),4))"
   ]
  },
  {
   "cell_type": "markdown",
   "id": "9cbbf4f1",
   "metadata": {},
   "source": [
    "Q.5 Write a Python Program for cube sum of first n natural numbers?"
   ]
  },
  {
   "cell_type": "code",
   "execution_count": 79,
   "id": "659fabcf",
   "metadata": {},
   "outputs": [
    {
     "name": "stdout",
     "output_type": "stream",
     "text": [
      "225\n"
     ]
    }
   ],
   "source": [
    "def CubeSum(n):\n",
    "    s=0\n",
    "    for i in range(n+1):\n",
    "        s+=i**3\n",
    "    return s\n",
    "print(CubeSum(5))"
   ]
  }
 ],
 "metadata": {
  "kernelspec": {
   "display_name": "Python 3 (ipykernel)",
   "language": "python",
   "name": "python3"
  },
  "language_info": {
   "codemirror_mode": {
    "name": "ipython",
    "version": 3
   },
   "file_extension": ".py",
   "mimetype": "text/x-python",
   "name": "python",
   "nbconvert_exporter": "python",
   "pygments_lexer": "ipython3",
   "version": "3.9.7"
  }
 },
 "nbformat": 4,
 "nbformat_minor": 5
}
