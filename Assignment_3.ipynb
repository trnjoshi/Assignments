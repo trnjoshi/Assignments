{
 "cells": [
  {
   "cell_type": "markdown",
   "id": "748fa2e1",
   "metadata": {},
   "source": [
    "Q.1 Write a Python Program to Check if a Number is Positive, Negative or Zero?"
   ]
  },
  {
   "cell_type": "code",
   "execution_count": 10,
   "id": "0ccfbf90",
   "metadata": {},
   "outputs": [
    {
     "name": "stdout",
     "output_type": "stream",
     "text": [
      "Enter a number = -8\n",
      "Number is negative\n"
     ]
    }
   ],
   "source": [
    "a = float(input(\"Enter a number = \"))\n",
    "if a == 0 :\n",
    "    print(\"number is zero\")\n",
    "elif a > 0 :\n",
    "    print(\"number is positive\")\n",
    "else :\n",
    "    print(\"Number is negative\")"
   ]
  },
  {
   "cell_type": "markdown",
   "id": "cc5806b9",
   "metadata": {},
   "source": [
    "Q.2 Write a Python Program to Check if a Number is Odd or Even?"
   ]
  },
  {
   "cell_type": "code",
   "execution_count": 11,
   "id": "daba5545",
   "metadata": {},
   "outputs": [
    {
     "name": "stdout",
     "output_type": "stream",
     "text": [
      "Enter a number = 45\n",
      "Number is odd\n"
     ]
    }
   ],
   "source": [
    "a = int(input(\"Enter a number = \"))\n",
    "if a % 2 == 0 :\n",
    "    print(\"Number is even\")\n",
    "else :\n",
    "    print(\"Number is odd\")"
   ]
  },
  {
   "cell_type": "markdown",
   "id": "ab24e722",
   "metadata": {},
   "source": [
    "Q.3 Write a Python Program to Check Leap Year?"
   ]
  },
  {
   "cell_type": "code",
   "execution_count": 15,
   "id": "85ebe07b",
   "metadata": {},
   "outputs": [
    {
     "name": "stdout",
     "output_type": "stream",
     "text": [
      "Enter the year = 2022\n",
      "2022 is not the leap year\n"
     ]
    }
   ],
   "source": [
    "y = int(input(\"Enter the year = \"))\n",
    "\n",
    "if y % 400 == 0 and y % 100 == 0 :\n",
    "    print(y , \"is the leap year\")\n",
    "\n",
    "elif y % 4 == 0 and y % 100 != 0 :\n",
    "    print(y, \"is the leap year\")\n",
    "    \n",
    "else :\n",
    "    print (y, \"is not the leap year\")"
   ]
  },
  {
   "cell_type": "markdown",
   "id": "36eb1f3b",
   "metadata": {},
   "source": [
    "Q.4 Write a Python Program to Check Prime Number?"
   ]
  },
  {
   "cell_type": "code",
   "execution_count": 25,
   "id": "eac2a97e",
   "metadata": {},
   "outputs": [
    {
     "name": "stdout",
     "output_type": "stream",
     "text": [
      "Enter a number= 45\n",
      "45 is not a prime number\n"
     ]
    }
   ],
   "source": [
    "n = int(input(\"Enter a number= \")) \n",
    "if n > 1:    \n",
    "    for i in range(2, n):       \n",
    "       \n",
    "        if (n % i) == 0:\n",
    "            print(n, \"is not a prime number\")\n",
    "            break\n",
    "    else:\n",
    "        print(n, \"is a prime number\")\n",
    "else:\n",
    "    print(n, \"is not a prime number\")\n"
   ]
  },
  {
   "cell_type": "markdown",
   "id": "7f39b3fb",
   "metadata": {},
   "source": [
    "Q.5 Write a Python Program to Print all Prime Numbers in an Interval of 1-10000?"
   ]
  },
  {
   "cell_type": "code",
   "execution_count": 53,
   "id": "8840ecfc",
   "metadata": {},
   "outputs": [
    {
     "name": "stdout",
     "output_type": "stream",
     "text": [
      "Prime numbers between 1 and 100 are:\n",
      "2\n",
      "3\n",
      "5\n",
      "7\n",
      "11\n",
      "13\n",
      "17\n",
      "19\n",
      "23\n",
      "29\n",
      "31\n",
      "37\n",
      "41\n",
      "43\n",
      "47\n",
      "53\n",
      "59\n",
      "61\n",
      "67\n",
      "71\n",
      "73\n",
      "79\n",
      "83\n",
      "89\n",
      "97\n"
     ]
    }
   ],
   "source": [
    "lower = 1\n",
    "upper = 100\n",
    "\n",
    "print(\"Prime numbers between\", lower, \"and\", upper, \"are:\")\n",
    "\n",
    "for num in range(lower, upper):\n",
    "    if num > 1 :\n",
    "        for i in range(2, num):\n",
    "            if (num % i) == 0:\n",
    "                break\n",
    "        else:\n",
    "            print(num)"
   ]
  },
  {
   "cell_type": "code",
   "execution_count": null,
   "id": "3a31f722",
   "metadata": {},
   "outputs": [],
   "source": []
  }
 ],
 "metadata": {
  "kernelspec": {
   "display_name": "Python 3 (ipykernel)",
   "language": "python",
   "name": "python3"
  },
  "language_info": {
   "codemirror_mode": {
    "name": "ipython",
    "version": 3
   },
   "file_extension": ".py",
   "mimetype": "text/x-python",
   "name": "python",
   "nbconvert_exporter": "python",
   "pygments_lexer": "ipython3",
   "version": "3.9.7"
  }
 },
 "nbformat": 4,
 "nbformat_minor": 5
}
