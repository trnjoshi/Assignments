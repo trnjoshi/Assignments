{
 "cells": [
  {
   "cell_type": "markdown",
   "id": "a28cce91",
   "metadata": {},
   "source": [
    "Q.1 Write a Python program to Extract Unique values dictionary values?"
   ]
  },
  {
   "cell_type": "code",
   "execution_count": 3,
   "id": "2d443b75",
   "metadata": {},
   "outputs": [
    {
     "name": "stdout",
     "output_type": "stream",
     "text": [
      "The original dictionary is :  {'1': [2, 6, 89, 56], '2': [2, 8, 9, 3, 48, 3, 45], '3': [8, 9, 5, 3, 465, 45], '4': [89, 1, 56, 9]}\n",
      "The unique values list is :  [1, 2, 3, 5, 6, 8, 9, 45, 48, 56, 89, 465]\n"
     ]
    }
   ],
   "source": [
    "dict = {'1' : [2,6,89,56],\n",
    "             '2' : [2,8,9,3,48,3,45],\n",
    "             '3' : [8,9,5,3,465,45],\n",
    "             '4' : [89,1,56,9]}\n",
    "\n",
    "print(\"The original dictionary is : \" ,dict)\n",
    "  \n",
    "# Using list comprehension, values() and sorted()\n",
    "extrac = list(sorted({v for val in dict.values() for v in val}))\n",
    "  \n",
    "# print result \n",
    "print(\"The unique values list is : \" , extrac) "
   ]
  },
  {
   "cell_type": "markdown",
   "id": "5c3ad4b6",
   "metadata": {},
   "source": [
    "Q.2 Write a Python program to find the sum of all items in a dictionary?"
   ]
  },
  {
   "cell_type": "code",
   "execution_count": 5,
   "id": "648a700d",
   "metadata": {},
   "outputs": [
    {
     "name": "stdout",
     "output_type": "stream",
     "text": [
      "70\n"
     ]
    }
   ],
   "source": [
    "dict1 = {'a': 10,'b':20,'c':40}\n",
    "sum = 0\n",
    "\n",
    "for i in dict1:\n",
    "    sum = sum + dict1[i]\n",
    "    \n",
    "print(sum)\n",
    "    "
   ]
  },
  {
   "cell_type": "markdown",
   "id": "b6070530",
   "metadata": {},
   "source": [
    "Q.3 Write a Python program to Merging two Dictionaries?"
   ]
  },
  {
   "cell_type": "code",
   "execution_count": 7,
   "id": "eb27b9fa",
   "metadata": {},
   "outputs": [
    {
     "name": "stdout",
     "output_type": "stream",
     "text": [
      "{'a': 5, 'b': 8, 'c': 56, 'd': 68, 'e': 23, 'f': 56, 'g': 23}\n"
     ]
    }
   ],
   "source": [
    "def merge(dict1,dict2):\n",
    "    mer = dict1|dict2\n",
    "    return mer\n",
    "dict1 = {'a':5,'b':8,'c':56,'d':68}\n",
    "dict2 = {'e':23,'f':56,'g':23}\n",
    "\n",
    "dict3 = merge(dict1,dict2)\n",
    "print(dict3)"
   ]
  },
  {
   "cell_type": "markdown",
   "id": "492a28bb",
   "metadata": {},
   "source": [
    "Q.4 Write a Python program to convert key-values list to flat dictionary?"
   ]
  },
  {
   "cell_type": "code",
   "execution_count": 4,
   "id": "6a7a542a",
   "metadata": {},
   "outputs": [
    {
     "name": "stdout",
     "output_type": "stream",
     "text": [
      "Original Dictionary:  {'Roll_No': [101, 102, 104, 105, 106], 'name': ['Raj', 'Jay', 'Pradip', 'Harsh', 'Akshay']}\n",
      "Flat Dictionary:  {101: 'Raj', 102: 'Jay', 104: 'Pradip', 105: 'Harsh', 106: 'Akshay'}\n"
     ]
    }
   ],
   "source": [
    "dic= { \"Roll_No\": [101, 102, 104, 105, 106], \"name\": ['Raj', 'Jay', 'Pradip' ,'Harsh','Akshay' ] }\n",
    "print(\"Original Dictionary: \",dic)\n",
    "\n",
    "new_dic= dict(zip(dic[\"Roll_No\"], dic[\"name\"]))\n",
    "print(\"Flat Dictionary: \", new_dic)"
   ]
  },
  {
   "cell_type": "markdown",
   "id": "0f49135c",
   "metadata": {},
   "source": [
    "Q.5 Write a Python program to insertion at the beginning in OrderedDict?"
   ]
  },
  {
   "cell_type": "code",
   "execution_count": 5,
   "id": "cc5d347b",
   "metadata": {},
   "outputs": [
    {
     "name": "stdout",
     "output_type": "stream",
     "text": [
      "Resultant Dictionary :\n",
      "OrderedDict([('D', '400'), ('A', '100'), ('B', '200'), ('C', '300')])\n"
     ]
    }
   ],
   "source": [
    "from collections import OrderedDict\n",
    "dic1 = OrderedDict([('A', '100'), ('B', '200'), ('C', '300')])\n",
    "insrt = OrderedDict([(\"D\", '400')])\n",
    "  \n",
    "final = OrderedDict(list(insrt.items()) + list(dic1.items()))\n",
    "print (\"Resultant Dictionary :\")\n",
    "print(final)"
   ]
  },
  {
   "cell_type": "markdown",
   "id": "0e099509",
   "metadata": {},
   "source": [
    "Q.6 Write a Python program to check order of character in string using OrderedDict()?"
   ]
  },
  {
   "cell_type": "code",
   "execution_count": 7,
   "id": "44d701da",
   "metadata": {},
   "outputs": [
    {
     "name": "stdout",
     "output_type": "stream",
     "text": [
      "The string is \n",
      "Hi Mark\n",
      "The input pattern is \n",
      "Ma\n",
      "The order of pattern is correct\n"
     ]
    }
   ],
   "source": [
    "from collections import OrderedDict\n",
    "def check_order(my_input, my_pattern):\n",
    "    my_dict = OrderedDict.fromkeys(my_input)\n",
    "    pattern_length = 0\n",
    "    for key,value in my_dict.items():\n",
    "        if (key == my_pattern[pattern_length]):\n",
    "            pattern_length = pattern_length + 1\n",
    "\n",
    "        if (pattern_length == (len(my_pattern))):\n",
    "            return 'The order of pattern is correct'\n",
    "\n",
    "    return 'The order of pattern is incorrect'\n",
    "\n",
    "my_input = 'Hi Mark'\n",
    "input_pattern = 'Ma'\n",
    "print(\"The string is \")\n",
    "print(my_input)\n",
    "print(\"The input pattern is \")\n",
    "print(input_pattern)\n",
    "print(check_order(my_input,input_pattern))"
   ]
  },
  {
   "cell_type": "markdown",
   "id": "34a6724e",
   "metadata": {},
   "source": [
    "Q.7 Write a Python program to sort Python Dictionaries by Key or Value?"
   ]
  },
  {
   "cell_type": "code",
   "execution_count": 8,
   "id": "b4263195",
   "metadata": {},
   "outputs": [
    {
     "name": "stdout",
     "output_type": "stream",
     "text": [
      "[1, 2, 3, 4, 5, 6]\n",
      "[(1, 2), (2, 1), (3, 4), (4, 3), (5, 6), (6, 5)]\n"
     ]
    }
   ],
   "source": [
    "a = {1:2 ,2:1 ,4:3 ,3:4 ,6:5 ,5:6 }\n",
    "print(sorted(a.keys()))\n",
    "print(sorted(a.items()))"
   ]
  }
 ],
 "metadata": {
  "kernelspec": {
   "display_name": "Python 3 (ipykernel)",
   "language": "python",
   "name": "python3"
  },
  "language_info": {
   "codemirror_mode": {
    "name": "ipython",
    "version": 3
   },
   "file_extension": ".py",
   "mimetype": "text/x-python",
   "name": "python",
   "nbconvert_exporter": "python",
   "pygments_lexer": "ipython3",
   "version": "3.9.7"
  }
 },
 "nbformat": 4,
 "nbformat_minor": 5
}
